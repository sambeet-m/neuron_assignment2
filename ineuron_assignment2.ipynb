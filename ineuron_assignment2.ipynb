{
 "cells": [
  {
   "cell_type": "markdown",
   "metadata": {},
   "source": [
    "# Assignment 2\n",
    "## Task 1"
   ]
  },
  {
   "cell_type": "code",
   "execution_count": 3,
   "metadata": {},
   "outputs": [
    {
     "data": {
      "text/plain": [
       "[5, 10, 15, 20, 25, 30, 35, 40, 45, 50]"
      ]
     },
     "execution_count": 3,
     "metadata": {},
     "output_type": "execute_result"
    }
   ],
   "source": [
    "## 1.1 Creating your own filter function. (We are going to filter a list with numbers from 1 to 50 with numbers divisible by 5)\n",
    "\n",
    "def Div5(x):\n",
    "    if not (x % 5):\n",
    "        return 1\n",
    "    return 0\n",
    "\n",
    "\n",
    "def myfilter(f, L):\n",
    "    return [x for x in L if f(x)]\n",
    "\n",
    "\n",
    "myfilter(Div5,[a for a in range(1,51)])\n"
   ]
  },
  {
   "cell_type": "code",
   "execution_count": 6,
   "metadata": {},
   "outputs": [
    {
     "data": {
      "text/plain": [
       "1275"
      ]
     },
     "execution_count": 6,
     "metadata": {},
     "output_type": "execute_result"
    }
   ],
   "source": [
    "## 1.2 Creating your own reduce function. We are going to add the numbers from 1 to 50 by using this reduce function)\n",
    "\n",
    "def  myreduce(f,L):\n",
    "    r=L[0]\n",
    "    for i in L[1:]:\n",
    "        r = f(r, i)\n",
    "    return r\n",
    "    \n",
    "myreduce(lambda x,y:x+y,[a for a in range(1,51)])  "
   ]
  },
  {
   "cell_type": "code",
   "execution_count": 22,
   "metadata": {},
   "outputs": [
    {
     "name": "stdout",
     "output_type": "stream",
     "text": [
      " ['A', 'C', 'A', 'D', 'G', 'I', 'L', 'D'] \n",
      " ['x', 'xx', 'xxx', 'xxxx', 'y', 'yy', 'yyy', 'yyyy', 'z', 'zz', 'zzz', 'zzzz'] \n",
      " ['x', 'y', 'z', 'xx', 'yy', 'zz', 'xxx', 'yyy', 'zzz', 'xxxx', 'yyyy', 'zzzz'] \n",
      " [[2], [3], [4], [3], [4], [5], [4], [5], [6]] \n",
      " [[2, 3, 4, 5], [3, 4, 5, 6], [4, 5, 6, 7], [5, 6, 7, 8]] \n",
      " [(1, 1), (2, 1), (3, 1), (1, 2), (2, 2), (3, 2), (1, 3), (2, 3), (3, 3)]\n"
     ]
    }
   ],
   "source": [
    "## 2. List Comprehensions for producing the following lists\n",
    "L1=[l for l in 'ACADGILD']\n",
    "L2=[i*j for i in ['x','y','z'] for j in range(1,5)]\n",
    "L3=[i*j for i in range(1,5) for j in ['x','y','z']]\n",
    "L4=[[i+j] for i in range(2,5) for j in range(3)]\n",
    "L5=[[i+j for i in range(1,5)] for j in range(1,5)]\n",
    "L6=[(i,j) for j in range(1,4) for i in range(1,4)]\n",
    "print ('',L1,'\\n',L2,'\\n',L3,'\\n',L4,'\\n',L5,'\\n',L6)"
   ]
  },
  {
   "cell_type": "code",
   "execution_count": 2,
   "metadata": {},
   "outputs": [
    {
     "data": {
      "text/plain": [
       "'Mohapatra'"
      ]
     },
     "execution_count": 2,
     "metadata": {},
     "output_type": "execute_result"
    }
   ],
   "source": [
    " ## Q3. function to return the longest word from list of words\n",
    "def longestWord(l):\n",
    "    longest=''\n",
    "    for i in l:\n",
    "        if len(i) > len(longest):\n",
    "                  longest=i\n",
    "    return longest\n",
    "    \n",
    "longestWord(['My','Name','is','Sambeet','Mohapatra'])\n"
   ]
  },
  {
   "cell_type": "markdown",
   "metadata": {},
   "source": [
    " ## Task 2\n",
    "\n"
   ]
  },
  {
   "cell_type": "code",
   "execution_count": 6,
   "metadata": {},
   "outputs": [
    {
     "name": "stdout",
     "output_type": "stream",
     "text": [
      "Please enter the first side of a triangle: 2\n",
      "Please enter the second side of a triangle: 3\n",
      "Please enter the third side of a triangle: 4\n",
      "2.9047375096555625\n"
     ]
    }
   ],
   "source": [
    "## 1.1 Area of a triangle using class\n",
    "a = float(input('Please enter the first side of a triangle: '))\n",
    "b = float(input('Please enter the second side of a triangle: '))\n",
    "c = float(input('Please enter the third side of a triangle: '))\n",
    "class triangle():\n",
    "   def __init__(self,a,b,c):\n",
    "       self.a = a\n",
    "       self.b = b\n",
    "       self.c = c\n",
    "   def area(self):\n",
    "       s=(a + b + c)/2\n",
    "       area=(s*(s-a)*(s-b)*(s-c))**0.5\n",
    "       return area\n",
    "t = triangle(a, b, c)\n",
    "print(t.area())\n"
   ]
  },
  {
   "cell_type": "code",
   "execution_count": 9,
   "metadata": {},
   "outputs": [
    {
     "data": {
      "text/plain": [
       "['Sambeet', 'Mohapatra']"
      ]
     },
     "execution_count": 9,
     "metadata": {},
     "output_type": "execute_result"
    }
   ],
   "source": [
    "##1.2 Function to filter all words of a list greater than n\n",
    "def filter_long_words(l,n):\n",
    "    L=[i for i in l if len(i)>n]\n",
    "    return L\n",
    "        \n",
    "filter_long_words(['My','Name','is','Sambeet','Mohapatra'],4)\n"
   ]
  },
  {
   "cell_type": "code",
   "execution_count": 10,
   "metadata": {},
   "outputs": [
    {
     "data": {
      "text/plain": [
       "[2, 4, 2, 7, 9]"
      ]
     },
     "execution_count": 10,
     "metadata": {},
     "output_type": "execute_result"
    }
   ],
   "source": [
    "##2.1 list of words into list of integers consisting of length of words\n",
    "def map_length(l):\n",
    "    L=[len(i) for i in l]\n",
    "    return L\n",
    "\n",
    "map_length(['My','Name','is','Sambeet','Mohapatra'])\n",
    "        "
   ]
  },
  {
   "cell_type": "code",
   "execution_count": 12,
   "metadata": {},
   "outputs": [
    {
     "data": {
      "text/plain": [
       "True"
      ]
     },
     "execution_count": 12,
     "metadata": {},
     "output_type": "execute_result"
    }
   ],
   "source": [
    "##2.2 function to return true if its a vowel\n",
    "def vowel(char):\n",
    "    if len(char)>1:\n",
    "        print(\"Please enter a single character\")\n",
    "        return False\n",
    "    if (char=='a'or char=='e' or char=='i' or char=='o' or char=='u'):\n",
    "        return True\n",
    "    return False\n",
    "\n",
    "vowel('u')\n",
    "    \n",
    "     \n",
    "   "
   ]
  },
  {
   "cell_type": "code",
   "execution_count": null,
   "metadata": {},
   "outputs": [],
   "source": []
  }
 ],
 "metadata": {
  "kernelspec": {
   "display_name": "Python 3",
   "language": "python",
   "name": "python3"
  },
  "language_info": {
   "codemirror_mode": {
    "name": "ipython",
    "version": 3
   },
   "file_extension": ".py",
   "mimetype": "text/x-python",
   "name": "python",
   "nbconvert_exporter": "python",
   "pygments_lexer": "ipython3",
   "version": "3.7.3"
  }
 },
 "nbformat": 4,
 "nbformat_minor": 2
}
